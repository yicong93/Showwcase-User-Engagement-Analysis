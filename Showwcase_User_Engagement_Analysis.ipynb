{
 "cells": [
  {
   "cell_type": "markdown",
   "metadata": {},
   "source": [
    "# Showwcase User Engagement Analysis\n",
    "\n",
    "Showwcase is an online platform where members of the tech community connect, share their knowledge, work experiences, projects built, people they've worked with - and find new opportunities. Showwcase users can like, follow, comment, and share posts on the platform.\n",
    "\n",
    "This project is to better understand \" user engagement\" on the platform through analyzing session-based dataset."
   ]
  },
  {
   "cell_type": "markdown",
   "metadata": {},
   "source": [
    "## Roadmap\n",
    "\n",
    "#### Part 1 Data Exploration\n",
    "   [Part 1.1 Understand the Raw Dataset](#Part-1.1-Understand-the-Raw-Dataset)\n",
    "   \n",
    "   [Part 1.2 Data Cleaning](#Part-1.2-Data-Cleaning)\n",
    "   \n",
    "   [Part 1.3 Understand the Features](#Part-1.3-Understand-the-Features)\n",
    "  \n",
    "#### Part 2 Trend-based Analysis\n",
    "   [Part 2.1 Daily-based Trend](#Part-2.1-Daily-based-Trend)\n",
    "   \n",
    "   [Part 2.2 Weekday-based Trend](#Part-2.2-Weekday-based-Trend)\n",
    "\n",
    "#### Part 3 User-based Analysis\n",
    "   [Part 3.1 Feature Engineering and Modeling](#Part-3.1-Feature-Engineering-and-Modeling)\n",
    "  \n",
    "   [Part 3.2 User-based Analysis of Active Score](#Part-3.2-User-based-Analysis-of-Active-Score)\n",
    "   \n",
    "   [Part 3.3 Weekday-based Analysis of Cumulative Active Score](#Part-3.3-Weekday-based-Analysis-of-Cumulative-Active-Score) \n",
    "   \n",
    "   [Part 3.4 Weekday-based Analysis of Cumulative Active Score Per User](#Part-3.4-Weekday-based-Analysis-of-Cumulative-Active-Score-Per-User)\n",
    "   \n",
    "#### Part 4 Conclusion and Suggestion and Future Work\n",
    "   [Part 4.1 Conclusion and Suggestion](#Part-4.1-Conclusion-and-Suggestion)\n",
    "   \n",
    "   [Part 4.2 Future Work](#Part-4.2-Future-Work)"
   ]
  },
  {
   "cell_type": "markdown",
   "metadata": {},
   "source": [
    "## Part 1 Data Exploration"
   ]
  },
  {
   "cell_type": "markdown",
   "metadata": {},
   "source": [
    "### Part 1.1 Understand the Raw Dataset"
   ]
  },
  {
   "cell_type": "markdown",
   "metadata": {},
   "source": [
    "The first step of our data exploration is to form a basic understanding of the provided raw dataset. This covers different aspects such as the size of the dataset, the statistical characteristics of features (columns), the existence of corrupted or missing values, etc.  "
   ]
  },
  {
   "cell_type": "code",
   "execution_count": 1,
   "metadata": {},
   "outputs": [],
   "source": [
    "import pandas as pd\n",
    "import numpy as np\n",
    "import matplotlib.pyplot as plt\n",
    "import seaborn as sns\n",
    "from sklearn import preprocessing\n",
    "from sklearn.ensemble import RandomForestRegressor"
   ]
  },
  {
   "cell_type": "code",
   "execution_count": 2,
   "metadata": {},
   "outputs": [
    {
     "data": {
      "text/html": [
       "<div>\n",
       "<style scoped>\n",
       "    .dataframe tbody tr th:only-of-type {\n",
       "        vertical-align: middle;\n",
       "    }\n",
       "\n",
       "    .dataframe tbody tr th {\n",
       "        vertical-align: top;\n",
       "    }\n",
       "\n",
       "    .dataframe thead th {\n",
       "        text-align: right;\n",
       "    }\n",
       "</style>\n",
       "<table border=\"1\" class=\"dataframe\">\n",
       "  <thead>\n",
       "    <tr style=\"text-align: right;\">\n",
       "      <th></th>\n",
       "      <th>session_id</th>\n",
       "      <th>customer_id</th>\n",
       "      <th>login_date</th>\n",
       "      <th>projects_added</th>\n",
       "      <th>likes_given</th>\n",
       "      <th>comment_given</th>\n",
       "      <th>inactive_status</th>\n",
       "      <th>bug_occured</th>\n",
       "      <th>session_projects_added</th>\n",
       "      <th>session_likes_given</th>\n",
       "      <th>session_comments_given</th>\n",
       "      <th>inactive_duration</th>\n",
       "      <th>bugs_in_session</th>\n",
       "      <th>session_duration</th>\n",
       "    </tr>\n",
       "  </thead>\n",
       "  <tbody>\n",
       "    <tr>\n",
       "      <th>0</th>\n",
       "      <td>624205.0</td>\n",
       "      <td>80746.0</td>\n",
       "      <td>2019-10-30</td>\n",
       "      <td>False</td>\n",
       "      <td>True</td>\n",
       "      <td>True</td>\n",
       "      <td>True</td>\n",
       "      <td>False</td>\n",
       "      <td>0.0</td>\n",
       "      <td>24.0</td>\n",
       "      <td>3.0</td>\n",
       "      <td>1146.0</td>\n",
       "      <td>0.0</td>\n",
       "      <td>1564.0</td>\n",
       "    </tr>\n",
       "    <tr>\n",
       "      <th>1</th>\n",
       "      <td>624241.0</td>\n",
       "      <td>24520.0</td>\n",
       "      <td>2019-10-30</td>\n",
       "      <td>True</td>\n",
       "      <td>True</td>\n",
       "      <td>True</td>\n",
       "      <td>True</td>\n",
       "      <td>False</td>\n",
       "      <td>2.0</td>\n",
       "      <td>3.0</td>\n",
       "      <td>5.0</td>\n",
       "      <td>133.0</td>\n",
       "      <td>0.0</td>\n",
       "      <td>1766.0</td>\n",
       "    </tr>\n",
       "    <tr>\n",
       "      <th>2</th>\n",
       "      <td>111002.0</td>\n",
       "      <td>32047.0</td>\n",
       "      <td>2019-10-30</td>\n",
       "      <td>True</td>\n",
       "      <td>True</td>\n",
       "      <td>True</td>\n",
       "      <td>True</td>\n",
       "      <td>False</td>\n",
       "      <td>1.0</td>\n",
       "      <td>5.0</td>\n",
       "      <td>5.0</td>\n",
       "      <td>1571.0</td>\n",
       "      <td>0.0</td>\n",
       "      <td>2230.0</td>\n",
       "    </tr>\n",
       "    <tr>\n",
       "      <th>3</th>\n",
       "      <td>545113.0</td>\n",
       "      <td>23404.0</td>\n",
       "      <td>2019-10-30</td>\n",
       "      <td>True</td>\n",
       "      <td>True</td>\n",
       "      <td>True</td>\n",
       "      <td>False</td>\n",
       "      <td>False</td>\n",
       "      <td>1.0</td>\n",
       "      <td>10.0</td>\n",
       "      <td>21.0</td>\n",
       "      <td>0.0</td>\n",
       "      <td>0.0</td>\n",
       "      <td>633.0</td>\n",
       "    </tr>\n",
       "    <tr>\n",
       "      <th>4</th>\n",
       "      <td>750269.0</td>\n",
       "      <td>40235.0</td>\n",
       "      <td>2019-10-30</td>\n",
       "      <td>True</td>\n",
       "      <td>True</td>\n",
       "      <td>False</td>\n",
       "      <td>True</td>\n",
       "      <td>False</td>\n",
       "      <td>3.0</td>\n",
       "      <td>16.0</td>\n",
       "      <td>0.0</td>\n",
       "      <td>1405.0</td>\n",
       "      <td>0.0</td>\n",
       "      <td>1679.0</td>\n",
       "    </tr>\n",
       "  </tbody>\n",
       "</table>\n",
       "</div>"
      ],
      "text/plain": [
       "   session_id  customer_id login_date projects_added likes_given  \\\n",
       "0    624205.0      80746.0 2019-10-30          False        True   \n",
       "1    624241.0      24520.0 2019-10-30           True        True   \n",
       "2    111002.0      32047.0 2019-10-30           True        True   \n",
       "3    545113.0      23404.0 2019-10-30           True        True   \n",
       "4    750269.0      40235.0 2019-10-30           True        True   \n",
       "\n",
       "  comment_given inactive_status bug_occured  session_projects_added  \\\n",
       "0          True            True       False                     0.0   \n",
       "1          True            True       False                     2.0   \n",
       "2          True            True       False                     1.0   \n",
       "3          True           False       False                     1.0   \n",
       "4         False            True       False                     3.0   \n",
       "\n",
       "   session_likes_given  session_comments_given  inactive_duration  \\\n",
       "0                 24.0                     3.0             1146.0   \n",
       "1                  3.0                     5.0              133.0   \n",
       "2                  5.0                     5.0             1571.0   \n",
       "3                 10.0                    21.0                0.0   \n",
       "4                 16.0                     0.0             1405.0   \n",
       "\n",
       "   bugs_in_session  session_duration  \n",
       "0              0.0            1564.0  \n",
       "1              0.0            1766.0  \n",
       "2              0.0            2230.0  \n",
       "3              0.0             633.0  \n",
       "4              0.0            1679.0  "
      ]
     },
     "execution_count": 2,
     "metadata": {},
     "output_type": "execute_result"
    }
   ],
   "source": [
    "# load data\n",
    "df=pd.read_csv('showwcase_sessions.csv',parse_dates=['login_date'])\n",
    "df.head()"
   ]
  },
  {
   "cell_type": "code",
   "execution_count": 3,
   "metadata": {},
   "outputs": [
    {
     "data": {
      "text/plain": [
       "(302, 14)"
      ]
     },
     "execution_count": 3,
     "metadata": {},
     "output_type": "execute_result"
    }
   ],
   "source": [
    "# number of rows and columns\n",
    "df.shape"
   ]
  },
  {
   "cell_type": "code",
   "execution_count": 4,
   "metadata": {},
   "outputs": [
    {
     "name": "stdout",
     "output_type": "stream",
     "text": [
      "<class 'pandas.core.frame.DataFrame'>\n",
      "RangeIndex: 302 entries, 0 to 301\n",
      "Data columns (total 14 columns):\n",
      " #   Column                  Non-Null Count  Dtype         \n",
      "---  ------                  --------------  -----         \n",
      " 0   session_id              300 non-null    float64       \n",
      " 1   customer_id             300 non-null    float64       \n",
      " 2   login_date              300 non-null    datetime64[ns]\n",
      " 3   projects_added          300 non-null    object        \n",
      " 4   likes_given             300 non-null    object        \n",
      " 5   comment_given           300 non-null    object        \n",
      " 6   inactive_status         300 non-null    object        \n",
      " 7   bug_occured             300 non-null    object        \n",
      " 8   session_projects_added  300 non-null    float64       \n",
      " 9   session_likes_given     299 non-null    float64       \n",
      " 10  session_comments_given  300 non-null    float64       \n",
      " 11  inactive_duration       300 non-null    float64       \n",
      " 12  bugs_in_session         300 non-null    float64       \n",
      " 13  session_duration        300 non-null    float64       \n",
      "dtypes: datetime64[ns](1), float64(8), object(5)\n",
      "memory usage: 33.2+ KB\n"
     ]
    }
   ],
   "source": [
    "# check number of not-null values and data type for each column\n",
    "df.info()"
   ]
  },
  {
   "cell_type": "code",
   "execution_count": 5,
   "metadata": {},
   "outputs": [
    {
     "data": {
      "text/plain": [
       "session_id                2\n",
       "customer_id               2\n",
       "login_date                2\n",
       "projects_added            2\n",
       "likes_given               2\n",
       "comment_given             2\n",
       "inactive_status           2\n",
       "bug_occured               2\n",
       "session_projects_added    2\n",
       "session_likes_given       3\n",
       "session_comments_given    2\n",
       "inactive_duration         2\n",
       "bugs_in_session           2\n",
       "session_duration          2\n",
       "dtype: int64"
      ]
     },
     "execution_count": 5,
     "metadata": {},
     "output_type": "execute_result"
    }
   ],
   "source": [
    "# check null values\n",
    "df.isnull().sum()"
   ]
  },
  {
   "cell_type": "code",
   "execution_count": 6,
   "metadata": {},
   "outputs": [
    {
     "data": {
      "text/html": [
       "<div>\n",
       "<style scoped>\n",
       "    .dataframe tbody tr th:only-of-type {\n",
       "        vertical-align: middle;\n",
       "    }\n",
       "\n",
       "    .dataframe tbody tr th {\n",
       "        vertical-align: top;\n",
       "    }\n",
       "\n",
       "    .dataframe thead th {\n",
       "        text-align: right;\n",
       "    }\n",
       "</style>\n",
       "<table border=\"1\" class=\"dataframe\">\n",
       "  <thead>\n",
       "    <tr style=\"text-align: right;\">\n",
       "      <th></th>\n",
       "      <th>session_id</th>\n",
       "      <th>customer_id</th>\n",
       "      <th>login_date</th>\n",
       "      <th>projects_added</th>\n",
       "      <th>likes_given</th>\n",
       "      <th>comment_given</th>\n",
       "      <th>inactive_status</th>\n",
       "      <th>bug_occured</th>\n",
       "      <th>session_projects_added</th>\n",
       "      <th>session_likes_given</th>\n",
       "      <th>session_comments_given</th>\n",
       "      <th>inactive_duration</th>\n",
       "      <th>bugs_in_session</th>\n",
       "      <th>session_duration</th>\n",
       "    </tr>\n",
       "  </thead>\n",
       "  <tbody>\n",
       "    <tr>\n",
       "      <th>35</th>\n",
       "      <td>862128.0</td>\n",
       "      <td>23404.0</td>\n",
       "      <td>2019-10-26</td>\n",
       "      <td>True</td>\n",
       "      <td>False</td>\n",
       "      <td>True</td>\n",
       "      <td>True</td>\n",
       "      <td>False</td>\n",
       "      <td>2.0</td>\n",
       "      <td>NaN</td>\n",
       "      <td>2.0</td>\n",
       "      <td>1120.0</td>\n",
       "      <td>0.0</td>\n",
       "      <td>95.0</td>\n",
       "    </tr>\n",
       "    <tr>\n",
       "      <th>300</th>\n",
       "      <td>NaN</td>\n",
       "      <td>NaN</td>\n",
       "      <td>NaT</td>\n",
       "      <td>NaN</td>\n",
       "      <td>NaN</td>\n",
       "      <td>NaN</td>\n",
       "      <td>NaN</td>\n",
       "      <td>NaN</td>\n",
       "      <td>NaN</td>\n",
       "      <td>NaN</td>\n",
       "      <td>NaN</td>\n",
       "      <td>NaN</td>\n",
       "      <td>NaN</td>\n",
       "      <td>NaN</td>\n",
       "    </tr>\n",
       "    <tr>\n",
       "      <th>301</th>\n",
       "      <td>NaN</td>\n",
       "      <td>NaN</td>\n",
       "      <td>NaT</td>\n",
       "      <td>NaN</td>\n",
       "      <td>NaN</td>\n",
       "      <td>NaN</td>\n",
       "      <td>NaN</td>\n",
       "      <td>NaN</td>\n",
       "      <td>NaN</td>\n",
       "      <td>NaN</td>\n",
       "      <td>NaN</td>\n",
       "      <td>NaN</td>\n",
       "      <td>NaN</td>\n",
       "      <td>NaN</td>\n",
       "    </tr>\n",
       "  </tbody>\n",
       "</table>\n",
       "</div>"
      ],
      "text/plain": [
       "     session_id  customer_id login_date projects_added likes_given  \\\n",
       "35     862128.0      23404.0 2019-10-26           True       False   \n",
       "300         NaN          NaN        NaT            NaN         NaN   \n",
       "301         NaN          NaN        NaT            NaN         NaN   \n",
       "\n",
       "    comment_given inactive_status bug_occured  session_projects_added  \\\n",
       "35           True            True       False                     2.0   \n",
       "300           NaN             NaN         NaN                     NaN   \n",
       "301           NaN             NaN         NaN                     NaN   \n",
       "\n",
       "     session_likes_given  session_comments_given  inactive_duration  \\\n",
       "35                   NaN                     2.0             1120.0   \n",
       "300                  NaN                     NaN                NaN   \n",
       "301                  NaN                     NaN                NaN   \n",
       "\n",
       "     bugs_in_session  session_duration  \n",
       "35               0.0              95.0  \n",
       "300              NaN               NaN  \n",
       "301              NaN               NaN  "
      ]
     },
     "execution_count": 6,
     "metadata": {},
     "output_type": "execute_result"
    }
   ],
   "source": [
    "# check the rows with null values\n",
    "df[df.isnull().any(axis=1)]"
   ]
  },
  {
   "cell_type": "markdown",
   "metadata": {},
   "source": [
    "From the above analysis, we can see that the raw dataset consists of 302 rows and 14 columns and there are 3 rows with null (NaN) values. After examining those 3 rows, we can find that two rows contain null values for all columns while one row only contains one null value for feature (column) '__session_likes_given__'. For the two all-null rows, we can safely discard them since they don't contain any useful information. For the row that contains null value for '__session_likes_given__', we can actually replace its null value with 0. This is because the column '__likes_given__' in this row is \"False\", which indicates in this session, no likes were given, which makes our filling of 0 valid."
   ]
  },
  {
   "cell_type": "code",
   "execution_count": 7,
   "metadata": {},
   "outputs": [
    {
     "data": {
      "text/html": [
       "<div>\n",
       "<style scoped>\n",
       "    .dataframe tbody tr th:only-of-type {\n",
       "        vertical-align: middle;\n",
       "    }\n",
       "\n",
       "    .dataframe tbody tr th {\n",
       "        vertical-align: top;\n",
       "    }\n",
       "\n",
       "    .dataframe thead th {\n",
       "        text-align: right;\n",
       "    }\n",
       "</style>\n",
       "<table border=\"1\" class=\"dataframe\">\n",
       "  <thead>\n",
       "    <tr style=\"text-align: right;\">\n",
       "      <th></th>\n",
       "      <th>session_id</th>\n",
       "      <th>customer_id</th>\n",
       "      <th>session_projects_added</th>\n",
       "      <th>session_likes_given</th>\n",
       "      <th>session_comments_given</th>\n",
       "      <th>inactive_duration</th>\n",
       "      <th>bugs_in_session</th>\n",
       "      <th>session_duration</th>\n",
       "    </tr>\n",
       "  </thead>\n",
       "  <tbody>\n",
       "    <tr>\n",
       "      <th>count</th>\n",
       "      <td>300.000000</td>\n",
       "      <td>300.000000</td>\n",
       "      <td>300.000000</td>\n",
       "      <td>299.000000</td>\n",
       "      <td>300.000000</td>\n",
       "      <td>300.000000</td>\n",
       "      <td>300.000000</td>\n",
       "      <td>300.000000</td>\n",
       "    </tr>\n",
       "    <tr>\n",
       "      <th>mean</th>\n",
       "      <td>530643.296667</td>\n",
       "      <td>44956.766667</td>\n",
       "      <td>1.620000</td>\n",
       "      <td>10.458194</td>\n",
       "      <td>2.406667</td>\n",
       "      <td>732.933333</td>\n",
       "      <td>1.233333</td>\n",
       "      <td>1186.763333</td>\n",
       "    </tr>\n",
       "    <tr>\n",
       "      <th>std</th>\n",
       "      <td>280421.371240</td>\n",
       "      <td>26411.336491</td>\n",
       "      <td>1.334743</td>\n",
       "      <td>9.474839</td>\n",
       "      <td>2.247545</td>\n",
       "      <td>838.143032</td>\n",
       "      <td>1.757608</td>\n",
       "      <td>688.632138</td>\n",
       "    </tr>\n",
       "    <tr>\n",
       "      <th>min</th>\n",
       "      <td>22885.000000</td>\n",
       "      <td>10246.000000</td>\n",
       "      <td>0.000000</td>\n",
       "      <td>0.000000</td>\n",
       "      <td>0.000000</td>\n",
       "      <td>0.000000</td>\n",
       "      <td>0.000000</td>\n",
       "      <td>10.000000</td>\n",
       "    </tr>\n",
       "    <tr>\n",
       "      <th>25%</th>\n",
       "      <td>308358.000000</td>\n",
       "      <td>23571.250000</td>\n",
       "      <td>1.000000</td>\n",
       "      <td>0.000000</td>\n",
       "      <td>0.750000</td>\n",
       "      <td>0.000000</td>\n",
       "      <td>0.000000</td>\n",
       "      <td>611.250000</td>\n",
       "    </tr>\n",
       "    <tr>\n",
       "      <th>50%</th>\n",
       "      <td>553675.000000</td>\n",
       "      <td>38967.000000</td>\n",
       "      <td>2.000000</td>\n",
       "      <td>9.000000</td>\n",
       "      <td>2.000000</td>\n",
       "      <td>313.500000</td>\n",
       "      <td>0.000000</td>\n",
       "      <td>1152.000000</td>\n",
       "    </tr>\n",
       "    <tr>\n",
       "      <th>75%</th>\n",
       "      <td>804120.250000</td>\n",
       "      <td>73245.000000</td>\n",
       "      <td>3.000000</td>\n",
       "      <td>19.000000</td>\n",
       "      <td>4.000000</td>\n",
       "      <td>1524.750000</td>\n",
       "      <td>2.250000</td>\n",
       "      <td>1778.000000</td>\n",
       "    </tr>\n",
       "    <tr>\n",
       "      <th>max</th>\n",
       "      <td>999480.000000</td>\n",
       "      <td>98653.000000</td>\n",
       "      <td>9.000000</td>\n",
       "      <td>27.000000</td>\n",
       "      <td>21.000000</td>\n",
       "      <td>2480.000000</td>\n",
       "      <td>5.000000</td>\n",
       "      <td>2395.000000</td>\n",
       "    </tr>\n",
       "  </tbody>\n",
       "</table>\n",
       "</div>"
      ],
      "text/plain": [
       "          session_id   customer_id  session_projects_added  \\\n",
       "count     300.000000    300.000000              300.000000   \n",
       "mean   530643.296667  44956.766667                1.620000   \n",
       "std    280421.371240  26411.336491                1.334743   \n",
       "min     22885.000000  10246.000000                0.000000   \n",
       "25%    308358.000000  23571.250000                1.000000   \n",
       "50%    553675.000000  38967.000000                2.000000   \n",
       "75%    804120.250000  73245.000000                3.000000   \n",
       "max    999480.000000  98653.000000                9.000000   \n",
       "\n",
       "       session_likes_given  session_comments_given  inactive_duration  \\\n",
       "count           299.000000              300.000000         300.000000   \n",
       "mean             10.458194                2.406667         732.933333   \n",
       "std               9.474839                2.247545         838.143032   \n",
       "min               0.000000                0.000000           0.000000   \n",
       "25%               0.000000                0.750000           0.000000   \n",
       "50%               9.000000                2.000000         313.500000   \n",
       "75%              19.000000                4.000000        1524.750000   \n",
       "max              27.000000               21.000000        2480.000000   \n",
       "\n",
       "       bugs_in_session  session_duration  \n",
       "count       300.000000        300.000000  \n",
       "mean          1.233333       1186.763333  \n",
       "std           1.757608        688.632138  \n",
       "min           0.000000         10.000000  \n",
       "25%           0.000000        611.250000  \n",
       "50%           0.000000       1152.000000  \n",
       "75%           2.250000       1778.000000  \n",
       "max           5.000000       2395.000000  "
      ]
     },
     "execution_count": 7,
     "metadata": {},
     "output_type": "execute_result"
    }
   ],
   "source": [
    "df.describe()"
   ]
  },
  {
   "cell_type": "markdown",
   "metadata": {},
   "source": [
    "From our simple statistical summary of all features (columns), we can see that 5 features ('__projects_added__', '__likes_given__', '__comment_given__', '__inactive_status__', '__bug_occured__') are boolean data type and 6 features ('__session_projects_added__', '__session_likes_given__', '__session_comments_given__', '__inactive_duration__', '__bugs_in_session__', '__session_duration__') are numerical data type. For the remaining three columns, the '__login_date__' is datetime data type and the '__session_id__' and '__customer_id__' can be considered as categorical data type. For those numerical features, we can see that the '__session_projects_added__' ranges from 0 to 9, the '__session_likes_given__' ranges from 0 to 27, the '__session_comments_given__' ranges from 0 to 21, the '__bugs_in_session__' ranges from 0 to 5."
   ]
  },
  {
   "cell_type": "markdown",
   "metadata": {},
   "source": [
    "### Part 1.2 Data Cleaning"
   ]
  },
  {
   "cell_type": "markdown",
   "metadata": {},
   "source": [
    "The next step of our data exploration is to clean the raw dataset so that we can transform it into an organized dataframe. This includes cleaning corrupted values, handling data integrity issues, transferring data type, etc. "
   ]
  },
  {
   "cell_type": "code",
   "execution_count": 8,
   "metadata": {},
   "outputs": [
    {
     "data": {
      "text/html": [
       "<div>\n",
       "<style scoped>\n",
       "    .dataframe tbody tr th:only-of-type {\n",
       "        vertical-align: middle;\n",
       "    }\n",
       "\n",
       "    .dataframe tbody tr th {\n",
       "        vertical-align: top;\n",
       "    }\n",
       "\n",
       "    .dataframe thead th {\n",
       "        text-align: right;\n",
       "    }\n",
       "</style>\n",
       "<table border=\"1\" class=\"dataframe\">\n",
       "  <thead>\n",
       "    <tr style=\"text-align: right;\">\n",
       "      <th></th>\n",
       "      <th>session_id</th>\n",
       "      <th>customer_id</th>\n",
       "      <th>login_date</th>\n",
       "      <th>projects_added</th>\n",
       "      <th>likes_given</th>\n",
       "      <th>comment_given</th>\n",
       "      <th>inactive_status</th>\n",
       "      <th>bug_occured</th>\n",
       "      <th>session_projects_added</th>\n",
       "      <th>session_likes_given</th>\n",
       "      <th>session_comments_given</th>\n",
       "      <th>inactive_duration</th>\n",
       "      <th>bugs_in_session</th>\n",
       "      <th>session_duration</th>\n",
       "    </tr>\n",
       "  </thead>\n",
       "  <tbody>\n",
       "    <tr>\n",
       "      <th>35</th>\n",
       "      <td>862128.0</td>\n",
       "      <td>23404.0</td>\n",
       "      <td>2019-10-26</td>\n",
       "      <td>True</td>\n",
       "      <td>False</td>\n",
       "      <td>True</td>\n",
       "      <td>True</td>\n",
       "      <td>False</td>\n",
       "      <td>2.0</td>\n",
       "      <td>NaN</td>\n",
       "      <td>2.0</td>\n",
       "      <td>1120.0</td>\n",
       "      <td>0.0</td>\n",
       "      <td>95.0</td>\n",
       "    </tr>\n",
       "  </tbody>\n",
       "</table>\n",
       "</div>"
      ],
      "text/plain": [
       "    session_id  customer_id login_date projects_added likes_given  \\\n",
       "35    862128.0      23404.0 2019-10-26           True       False   \n",
       "\n",
       "   comment_given inactive_status bug_occured  session_projects_added  \\\n",
       "35          True            True       False                     2.0   \n",
       "\n",
       "    session_likes_given  session_comments_given  inactive_duration  \\\n",
       "35                  NaN                     2.0             1120.0   \n",
       "\n",
       "    bugs_in_session  session_duration  \n",
       "35              0.0              95.0  "
      ]
     },
     "execution_count": 8,
     "metadata": {},
     "output_type": "execute_result"
    }
   ],
   "source": [
    "df[df['session_id']==862128.0]"
   ]
  },
  {
   "cell_type": "code",
   "execution_count": 9,
   "metadata": {},
   "outputs": [],
   "source": [
    "df['session_likes_given']=df.session_likes_given.fillna(0)"
   ]
  },
  {
   "cell_type": "code",
   "execution_count": 10,
   "metadata": {},
   "outputs": [],
   "source": [
    "# drop rows with null values\n",
    "df.dropna(inplace=True)"
   ]
  },
  {
   "cell_type": "code",
   "execution_count": 11,
   "metadata": {},
   "outputs": [
    {
     "data": {
      "text/plain": [
       "0"
      ]
     },
     "execution_count": 11,
     "metadata": {},
     "output_type": "execute_result"
    }
   ],
   "source": [
    "# check duplicate rows\n",
    "df.duplicated().sum()"
   ]
  },
  {
   "cell_type": "code",
   "execution_count": 12,
   "metadata": {},
   "outputs": [
    {
     "name": "stdout",
     "output_type": "stream",
     "text": [
      "[False True]\n",
      "[True False]\n",
      "[True False]\n",
      "[True False]\n",
      "[False True]\n"
     ]
    }
   ],
   "source": [
    "print(df['projects_added'].unique())\n",
    "print(df['likes_given'].unique())\n",
    "print(df['comment_given'].unique())\n",
    "print(df['inactive_status'].unique())\n",
    "print(df['bug_occured'].unique())"
   ]
  },
  {
   "cell_type": "code",
   "execution_count": 13,
   "metadata": {},
   "outputs": [],
   "source": [
    "# change data type to bool\n",
    "df['projects_added']=df['projects_added'] == True\n",
    "df['likes_given']=df['likes_given'] == True\n",
    "df['comment_given']=df['comment_given'] == True\n",
    "df['inactive_status']=df['inactive_status'] == True\n",
    "df['bug_occured']=df['bug_occured'] == True"
   ]
  },
  {
   "cell_type": "code",
   "execution_count": 14,
   "metadata": {},
   "outputs": [
    {
     "name": "stdout",
     "output_type": "stream",
     "text": [
      "<class 'pandas.core.frame.DataFrame'>\n",
      "Int64Index: 300 entries, 0 to 299\n",
      "Data columns (total 14 columns):\n",
      " #   Column                  Non-Null Count  Dtype         \n",
      "---  ------                  --------------  -----         \n",
      " 0   session_id              300 non-null    float64       \n",
      " 1   customer_id             300 non-null    float64       \n",
      " 2   login_date              300 non-null    datetime64[ns]\n",
      " 3   projects_added          300 non-null    bool          \n",
      " 4   likes_given             300 non-null    bool          \n",
      " 5   comment_given           300 non-null    bool          \n",
      " 6   inactive_status         300 non-null    bool          \n",
      " 7   bug_occured             300 non-null    bool          \n",
      " 8   session_projects_added  300 non-null    float64       \n",
      " 9   session_likes_given     300 non-null    float64       \n",
      " 10  session_comments_given  300 non-null    float64       \n",
      " 11  inactive_duration       300 non-null    float64       \n",
      " 12  bugs_in_session         300 non-null    float64       \n",
      " 13  session_duration        300 non-null    float64       \n",
      "dtypes: bool(5), datetime64[ns](1), float64(8)\n",
      "memory usage: 24.9 KB\n"
     ]
    }
   ],
   "source": [
    "df.info()"
   ]
  },
  {
   "cell_type": "code",
   "execution_count": 15,
   "metadata": {},
   "outputs": [
    {
     "data": {
      "text/plain": [
       "True"
      ]
     },
     "execution_count": 15,
     "metadata": {},
     "output_type": "execute_result"
    }
   ],
   "source": [
    "# check if session_id is unique for each row\n",
    "len(df.session_id.unique())==df.session_id.nunique()"
   ]
  },
  {
   "cell_type": "markdown",
   "metadata": {},
   "source": [
    "After discarding all-null rows, checking duplicated rows, imputing 0 for null values in '__session_likes_given__' feature, and transfering 5 features to bool data type, we finally obtain a (300, 14)-size organized dataframe."
   ]
  },
  {
   "cell_type": "markdown",
   "metadata": {},
   "source": [
    "### Part 1.3 Understand the Features"
   ]
  },
  {
   "cell_type": "markdown",
   "metadata": {},
   "source": [
    "After the raw dataset has been cleaned, now we can start to dig deeper into statistical characteristics of different features."
   ]
  },
  {
   "cell_type": "code",
   "execution_count": 16,
   "metadata": {},
   "outputs": [
    {
     "data": {
      "image/png": "[encoded data removed]",
      "text/plain": [
       "<Figure size 1296x720 with 5 Axes>"
      ]
     },
     "metadata": {
      "needs_background": "light"
     },
     "output_type": "display_data"
    }
   ],
   "source": [
    "# check feature distribution\n",
    "fig=plt.figure(figsize=(18,10))\n",
    "plt.subplot(2,3,1)\n",
    "sns.countplot(df['projects_added'])\n",
    "plt.subplot(2,3,2)\n",
    "sns.countplot(df['likes_given'])\n",
    "plt.subplot(2,3,3)\n",
    "sns.countplot(df['comment_given'])\n",
    "plt.subplot(2,3,4)\n",
    "sns.countplot(df['inactive_status'])\n",
    "plt.subplot(2,3,5)\n",
    "sns.countplot(df['bug_occured'])\n",
    "plt.show()"
   ]
  },
  {
   "cell_type": "markdown",
   "metadata": {},
   "source": [
    "From the above bar charts, we can see that the number of sessions where users __added projects, gave likes and comments__ respectively is __more than twice__ than that where users did not added projects, gave likes and comments respectively. The number of sessions where users were __inactive__ is __greater__ than that where users were active. Although the number of sessions where bugs occurred is smaller than that where bugs did not occur, we still have __more than 100 sessions where bugs occurred out of 300__. \n"
   ]
  },
  {
   "cell_type": "code",
   "execution_count": 17,
   "metadata": {},
   "outputs": [
    {
     "data": {
      "image/png": "[encoded data removed]",
      "text/plain": [
       "<Figure size 1296x720 with 6 Axes>"
      ]
     },
     "metadata": {
      "needs_background": "light"
     },
     "output_type": "display_data"
    }
   ],
   "source": [
    "# check feature distribution\n",
    "fig=plt.figure(figsize=(18,10))\n",
    "plt.subplot(2,3,1)\n",
    "sns.distplot(df['session_projects_added'])\n",
    "plt.subplot(2,3,2)\n",
    "sns.distplot(df['session_likes_given'])\n",
    "plt.subplot(2,3,3)\n",
    "sns.distplot(df['session_comments_given'])\n",
    "plt.subplot(2,3,4)\n",
    "sns.distplot(df['inactive_duration'])\n",
    "plt.subplot(2,3,5)\n",
    "sns.distplot(df['bugs_in_session'])\n",
    "plt.subplot(2,3,6)\n",
    "sns.distplot(df['session_duration'])\n",
    "plt.show()"
   ]
  },
  {
   "cell_type": "markdown",
   "metadata": {},
   "source": [
    "From the above, we can see that most users added __fewer than 4 projects__, gave __fewer than 30 likes__ and __fewer than 6 comments__ in each session. The number of bugs in each session mainly ranges from 0 to 5. "
   ]
  },
  {
   "cell_type": "code",
   "execution_count": 18,
   "metadata": {},
   "outputs": [
    {
     "data": {
      "image/png": "[encoded data removed]",
      "text/plain": [
       "<Figure size 1152x576 with 6 Axes>"
      ]
     },
     "metadata": {
      "needs_background": "light"
     },
     "output_type": "display_data"
    }
   ],
   "source": [
    "# check feature distribution\n",
    "fig=plt.figure(figsize=(16,8))\n",
    "plt.subplot(2,3,1)\n",
    "sns.boxplot(df['session_projects_added'])\n",
    "plt.subplot(2,3,2)\n",
    "sns.boxplot(df['session_likes_given'])\n",
    "plt.subplot(2,3,3)\n",
    "sns.boxplot(df['session_comments_given'])\n",
    "plt.subplot(2,3,4)\n",
    "sns.boxplot(df['inactive_duration'])\n",
    "plt.subplot(2,3,5)\n",
    "sns.boxplot(df['bugs_in_session'])\n",
    "plt.subplot(2,3,6)\n",
    "sns.boxplot(df['session_duration'])\n",
    "plt.show()"
   ]
  },
  {
   "cell_type": "markdown",
   "metadata": {},
   "source": [
    "From the above boxplots, we can find one outlier for feature 'session_projects_added' and three outliers for feature 'session_comments_given'. __At least 50% of data for feature 'bugs_in_session' is 0__."
   ]
  },
  {
   "cell_type": "markdown",
   "metadata": {},
   "source": [
    "## Part 2 Trend-based Analysis"
   ]
  },
  {
   "cell_type": "markdown",
   "metadata": {},
   "source": [
    "### Part 2.1 Daily-based Trend"
   ]
  },
  {
   "cell_type": "markdown",
   "metadata": {},
   "source": [
    "First, we analyze trend of users' activities across all login date. As a starting point, we visualize how many unique users logined per day. From below trend figure, we can see that the number of unique users logined per day fluctuated dramatically around mid and end of the month. Moreover, there exists bi-weekly pattern with regard to the number of unique users. "
   ]
  },
  {
   "cell_type": "code",
   "execution_count": 19,
   "metadata": {},
   "outputs": [],
   "source": [
    "date_login=pd.DataFrame(df.groupby(['login_date']).customer_id.apply(lambda x: len(x.unique()))).reset_index()\n",
    "date_login.rename(columns={'customer_id':'number_of_unique_users'},inplace=True)"
   ]
  },
  {
   "cell_type": "code",
   "execution_count": 20,
   "metadata": {},
   "outputs": [
    {
     "data": {
      "text/plain": [
       "<matplotlib.axes._subplots.AxesSubplot at 0x1a1e55b8d0>"
      ]
     },
     "execution_count": 20,
     "metadata": {},
     "output_type": "execute_result"
    },
    {
     "data": {
      "image/png": "[encoded data removed]",
      "text/plain": [
       "<Figure size 720x432 with 1 Axes>"
      ]
     },
     "metadata": {
      "needs_background": "light"
     },
     "output_type": "display_data"
    }
   ],
   "source": [
    "fig,ax=plt.subplots(figsize=(10,6))\n",
    "sns.lineplot(data=date_login, x='login_date', y='number_of_unique_users')"
   ]
  },
  {
   "cell_type": "markdown",
   "metadata": {},
   "source": [
    "### Part 2.2 Weekday-based Trend"
   ]
  },
  {
   "cell_type": "markdown",
   "metadata": {},
   "source": [
    "Second, we analyze trend of users' activities across weekdays. As a starting point, we also visualize how many unique users logined per weekday. From below trend figure, we can see that within one week, the number of unique users logined is higher during the period of Sunday-Tuesday than that during the period of Wednesday-Saturday. This indicates that more users tend to engage in the platform during the beginning of the week. "
   ]
  },
  {
   "cell_type": "code",
   "execution_count": 21,
   "metadata": {},
   "outputs": [],
   "source": [
    "def weekday_name(date):\n",
    "    time=pd.Timestamp(date)\n",
    "    return time.day_name()"
   ]
  },
  {
   "cell_type": "code",
   "execution_count": 22,
   "metadata": {},
   "outputs": [],
   "source": [
    "df['day_name']=df['login_date'].apply(weekday_name)"
   ]
  },
  {
   "cell_type": "code",
   "execution_count": 23,
   "metadata": {},
   "outputs": [],
   "source": [
    "week_day=df.groupby(['day_name']).agg({'customer_id':pd.Series.nunique,'session_projects_added':'sum','session_likes_given':'sum',\n",
    "                              'session_comments_given':'sum','bugs_in_session':'sum'}).reset_index()"
   ]
  },
  {
   "cell_type": "code",
   "execution_count": 24,
   "metadata": {},
   "outputs": [],
   "source": [
    "cats = [ 'Sunday', 'Monday', 'Tuesday', 'Wednesday', 'Thursday', 'Friday', 'Saturday']\n",
    "week_day = week_day.groupby(['day_name']).sum().reindex(cats).reset_index()"
   ]
  },
  {
   "cell_type": "code",
   "execution_count": 25,
   "metadata": {},
   "outputs": [],
   "source": [
    "week_day=week_day.rename(columns={'customer_id':'number_of_unique_users','session_projects_added':'number_of_projects_added',\n",
    "                        'session_likes_given':'number_of_likes_added','session_comments_given':'number_of_comments_added',\n",
    "                        'bugs_in_session':'number_of_bugs_added'})"
   ]
  },
  {
   "cell_type": "code",
   "execution_count": 26,
   "metadata": {},
   "outputs": [
    {
     "data": {
      "text/plain": [
       "Text(0, 0.5, 'number_of_unique_users')"
      ]
     },
     "execution_count": 26,
     "metadata": {},
     "output_type": "execute_result"
    },
    {
     "data": {
      "image/png": "[encoded data removed]",
      "text/plain": [
       "<Figure size 576x432 with 1 Axes>"
      ]
     },
     "metadata": {
      "needs_background": "light"
     },
     "output_type": "display_data"
    }
   ],
   "source": [
    "fig,ax=plt.subplots(figsize=(8,6))\n",
    "plt.plot(week_day['day_name'],week_day['number_of_unique_users'])\n",
    "ax.set_xlabel('day_name')\n",
    "ax.set_ylabel('number_of_unique_users')"
   ]
  },
  {
   "cell_type": "markdown",
   "metadata": {},
   "source": [
    "Next, we zoom in to analyze trends of various features that are associated with users' activities. To be more specific, we aggregate four features: '__session_projects_added__', '__session_likes_given__', '__session_comments_given__', '__bugs_in_session__' across weekdays and compare their trends along with the number of logined unique users.  "
   ]
  },
  {
   "cell_type": "code",
   "execution_count": 27,
   "metadata": {},
   "outputs": [
    {
     "name": "stderr",
     "output_type": "stream",
     "text": [
      "//anaconda3/lib/python3.7/site-packages/ipykernel_launcher.py:2: UserWarning: Matplotlib is currently using module://ipykernel.pylab.backend_inline, which is a non-GUI backend, so cannot show the figure.\n",
      "  \n"
     ]
    },
    {
     "data": {
      "image/png": "[encoded data removed]",
      "text/plain": [
       "<Figure size 576x432 with 1 Axes>"
      ]
     },
     "metadata": {
      "needs_background": "light"
     },
     "output_type": "display_data"
    }
   ],
   "source": [
    "fig=plt.figure(figsize=(8,6))\n",
    "fig.show()\n",
    "ax=fig.add_subplot(111)\n",
    "\n",
    "ax.plot(week_day['day_name'],week_day['number_of_unique_users'],c='b',ls='-',label='number of unique users',fillstyle='none')\n",
    "ax.plot(week_day['day_name'],week_day['number_of_projects_added'],c='g',marker=(8,2,0),ls='--',label='number of projects added')\n",
    "ax.plot(week_day['day_name'],week_day['number_of_likes_added'],c='k',ls='-',label='number of likes added')\n",
    "ax.plot(week_day['day_name'],week_day['number_of_comments_added'],c='r',marker=\"v\",ls='-',label='number of comments added')\n",
    "ax.plot(week_day['day_name'],week_day['number_of_bugs_added'],c='m',ls='-',label='number of bugs added',fillstyle='none')\n",
    "ax.set_xlabel('day_name')\n",
    "plt.legend(loc=2)\n",
    "plt.draw()"
   ]
  },
  {
   "cell_type": "code",
   "execution_count": 28,
   "metadata": {},
   "outputs": [
    {
     "data": {
      "text/plain": [
       "<matplotlib.axes._subplots.AxesSubplot at 0x1a1e967210>"
      ]
     },
     "execution_count": 28,
     "metadata": {},
     "output_type": "execute_result"
    },
    {
     "data": {
      "image/png": "[encoded data removed]",
      "text/plain": [
       "<Figure size 432x288 with 2 Axes>"
      ]
     },
     "metadata": {
      "needs_background": "light"
     },
     "output_type": "display_data"
    }
   ],
   "source": [
    "corr=week_day.corr()\n",
    "sns.heatmap(corr)"
   ]
  },
  {
   "cell_type": "markdown",
   "metadata": {},
   "source": [
    "From above figure, we can see that the pairwise correlation coefficients among the number of projects added, the number of comments added and the number of bugs added are all over 0.6. Such strong correlation explains why their trends are highly similar within one week. For the number of likes added, its pairwise correlation coefficients with above three features are around 0.4. This is also reasonable because although the number of likes added also has decreasing and increasing trend, its alternating frequency is different than the above three features."
   ]
  },
  {
   "cell_type": "markdown",
   "metadata": {},
   "source": [
    "In summary, after analyzing the weekday-based trend of user activities, we find that:\n",
    "    \n",
    "1. More users tend to login the website during the beginning of each week.\n",
    "    \n",
    "2. The number of different actions conducted per weekday, such as adding projects, giving comments and giving likes, are correlated with each other. For example, when the number of projects added increases on Saturday, it is highly likely that the number of comments added also increases on Saturday. \n",
    "    \n",
    "3. The number of bugs occurred per weekday is also correlated with the number of different actions conducted. This means the more projects added/comments are given, the more bugs will be discovered."
   ]
  },
  {
   "cell_type": "markdown",
   "metadata": {},
   "source": [
    "## Part 3 User-based Analysis"
   ]
  },
  {
   "cell_type": "markdown",
   "metadata": {},
   "source": [
    "### Part 3.1 Feature Engineering and Modeling"
   ]
  },
  {
   "cell_type": "markdown",
   "metadata": {},
   "source": [
    "First, we need to conduct feature engineering and modeling to obtain representative features that are fittest for our later user-based analysis. To be more specific, our feature engineering and modeling consists of following steps:\n",
    "    \n",
    "1. Design representative features\n",
    "    \n",
    "2. Calculate representative features via either arithmetic or modeling\n",
    "    \n",
    "3. Clean dataset after incorporating representative features"
   ]
  },
  {
   "cell_type": "markdown",
   "metadata": {},
   "source": [
    "In our analysis, users' engagement in the platform is evaluated from following two aspects:\n",
    "1. Active time users spend in the platform \n",
    "2. Active events users conduct in the platform\n",
    "\n",
    "Both of above two new features can be calculated via utilizing existing features. For the active time metric, we can obtain it via arithmetic of existing features like '__inactive_duration__' and '__session_duration__'. For the active events metric, we can obtain it via modeling of existing features like '__session_projects_added__', '__session_likes_given__', '__session_comments_given__', etc.  "
   ]
  },
  {
   "cell_type": "markdown",
   "metadata": {},
   "source": [
    "First, we will show how we obtain the active time metric. Two candidate features can be calculated here: one is the '__active_duration__', which represents the accumulated active duration a user spent in the platform; the other is the '__active_rate__', which represents the proportion of active duration over total login duration a user had. The corresponding arithmetic process can be briefly shown as below: "
   ]
  },
  {
   "cell_type": "code",
   "execution_count": 29,
   "metadata": {},
   "outputs": [],
   "source": [
    "# create new columns \n",
    "df['active_duration']=df['session_duration']-df['inactive_duration']\n",
    "df['active_rate']=(df['session_duration']-df['inactive_duration'])/df['session_duration']"
   ]
  },
  {
   "cell_type": "code",
   "execution_count": 30,
   "metadata": {},
   "outputs": [
    {
     "data": {
      "text/html": [
       "<div>\n",
       "<style scoped>\n",
       "    .dataframe tbody tr th:only-of-type {\n",
       "        vertical-align: middle;\n",
       "    }\n",
       "\n",
       "    .dataframe tbody tr th {\n",
       "        vertical-align: top;\n",
       "    }\n",
       "\n",
       "    .dataframe thead th {\n",
       "        text-align: right;\n",
       "    }\n",
       "</style>\n",
       "<table border=\"1\" class=\"dataframe\">\n",
       "  <thead>\n",
       "    <tr style=\"text-align: right;\">\n",
       "      <th></th>\n",
       "      <th>active_duration</th>\n",
       "      <th>active_rate</th>\n",
       "    </tr>\n",
       "  </thead>\n",
       "  <tbody>\n",
       "    <tr>\n",
       "      <th>count</th>\n",
       "      <td>300.000000</td>\n",
       "      <td>300.000000</td>\n",
       "    </tr>\n",
       "    <tr>\n",
       "      <th>mean</th>\n",
       "      <td>453.830000</td>\n",
       "      <td>-0.589680</td>\n",
       "    </tr>\n",
       "    <tr>\n",
       "      <th>std</th>\n",
       "      <td>1046.406052</td>\n",
       "      <td>4.938411</td>\n",
       "    </tr>\n",
       "    <tr>\n",
       "      <th>min</th>\n",
       "      <td>-2085.000000</td>\n",
       "      <td>-50.853659</td>\n",
       "    </tr>\n",
       "    <tr>\n",
       "      <th>25%</th>\n",
       "      <td>-227.750000</td>\n",
       "      <td>-0.193125</td>\n",
       "    </tr>\n",
       "    <tr>\n",
       "      <th>50%</th>\n",
       "      <td>483.000000</td>\n",
       "      <td>0.756582</td>\n",
       "    </tr>\n",
       "    <tr>\n",
       "      <th>75%</th>\n",
       "      <td>1264.250000</td>\n",
       "      <td>1.000000</td>\n",
       "    </tr>\n",
       "    <tr>\n",
       "      <th>max</th>\n",
       "      <td>2381.000000</td>\n",
       "      <td>1.000000</td>\n",
       "    </tr>\n",
       "  </tbody>\n",
       "</table>\n",
       "</div>"
      ],
      "text/plain": [
       "       active_duration  active_rate\n",
       "count       300.000000   300.000000\n",
       "mean        453.830000    -0.589680\n",
       "std        1046.406052     4.938411\n",
       "min       -2085.000000   -50.853659\n",
       "25%        -227.750000    -0.193125\n",
       "50%         483.000000     0.756582\n",
       "75%        1264.250000     1.000000\n",
       "max        2381.000000     1.000000"
      ]
     },
     "execution_count": 30,
     "metadata": {},
     "output_type": "execute_result"
    }
   ],
   "source": [
    "df[['active_duration','active_rate']].describe()"
   ]
  },
  {
   "cell_type": "markdown",
   "metadata": {},
   "source": [
    "After examing our calculation result, we find that both 'active_duration' and 'active_rate' have negative values, which violates common sense in reality. One possible reason for this data integrity issue is that due to some internal bugs in the platform's backend system, the 'inactive_duration' are not recorded properly in some cases, which leads to the negative values in our new 'active_duration' and 'active_rate' features. To overcome this data integrity issue, when we incorporate new active time metric, we need to discard rows containing negative values. "
   ]
  },
  {
   "cell_type": "code",
   "execution_count": 31,
   "metadata": {},
   "outputs": [],
   "source": [
    "df_corr=df[(df['active_duration']>=0) & (df['active_rate']>=0)]"
   ]
  },
  {
   "cell_type": "markdown",
   "metadata": {},
   "source": [
    "Since the two candidate features '__active_duration__' and '__active_rate__' are correlated, we need to select one of them as our final representative active time metric. For both of these two features, the higher their values are, the higher user engagement they tend to indicate. However, using '__active_rate__' sometimes can lead to a misleading conclusion. For example, considering below two users:\n",
    "1. user 1: total login duration: 10s, total active duration: 10s\n",
    "2. user 2: total login duration: 50min, total active duration: 30min\n",
    "\n",
    "If we use '__active_rate__' as our metric, then user 1 will be considered as having more engagement than user 2, which is not true in real cases. Therefore, we determine to select '__active_duration__' as our representative active time metric.\n",
    "Next, we incorporate the new '__active_duration__' feature into our dataset and discard some redundant old features such as '__inactive_duration__' and '__session_duration__'. After the new dataset is formed, we also draw correlation heatmap for all features, as shown below. We can see that the correlation between the new '__active_duration__' feature with others are all below 0.2, which proves our new feature is not redundant and relatively independent to other features."
   ]
  },
  {
   "cell_type": "code",
   "execution_count": 32,
   "metadata": {},
   "outputs": [
    {
     "data": {
      "text/plain": [
       "<matplotlib.axes._subplots.AxesSubplot at 0x1a1ead3f10>"
      ]
     },
     "execution_count": 32,
     "metadata": {},
     "output_type": "execute_result"
    },
    {
     "data": {
      "image/png": "[encoded data removed]",
      "text/plain": [
       "<Figure size 432x288 with 2 Axes>"
      ]
     },
     "metadata": {
      "needs_background": "light"
     },
     "output_type": "display_data"
    }
   ],
   "source": [
    "corr=df_corr[['session_projects_added', 'session_likes_given',\n",
    "       'session_comments_given', 'bugs_in_session', 'active_duration']].corr()\n",
    "sns.heatmap(corr)"
   ]
  },
  {
   "cell_type": "code",
   "execution_count": 33,
   "metadata": {},
   "outputs": [],
   "source": [
    "df_model=df_corr.drop(['session_id','login_date','inactive_duration','day_name','session_duration','active_rate'], axis=1)"
   ]
  },
  {
   "cell_type": "markdown",
   "metadata": {},
   "source": [
    "Second, we will show how we obtain the active events metric. There exist 4 main events in current dataset: adding projects, giving comments, giving likes and encountering bugs. Since bugs are caused by internal system errors and not controlled by users themselves, we only consider the first three events as our active events. Since the relationship among these three events cannot be easily represented by arithmetic equations, we decide to utilize machine-learning based modeling to help us build a new '__active_score__' feature that can represent all three active events in a comprehensive way."
   ]
  },
  {
   "cell_type": "markdown",
   "metadata": {},
   "source": [
    "To achieve this purpose, we choose random forest model as our regression technique. This is mainly because the random forest model can not only handle different types of input variables, but also provide feature importance score for all features, which paves the foundation of building our new representative '__active_score__' feature. Our modeling process consists of following steps:\n",
    "1. Transfer session-based dataset to user-based dataset via aggregation\n",
    "2. Preprocess user-based dataset via feature scaling\n",
    "3. Train random forest model from user-based dataset via choosing '__active_duration__' as the target variable\n",
    "4. Sort all features in descending order via their feature importance scores"
   ]
  },
  {
   "cell_type": "code",
   "execution_count": 34,
   "metadata": {},
   "outputs": [],
   "source": [
    "df_model=df_model.groupby(['customer_id']).agg({'projects_added':'sum','likes_given':'sum','comment_given':'sum',\n",
    "                                       'inactive_status':'sum','bug_occured':'sum','session_projects_added':'sum',\n",
    "                                        'session_likes_given':'sum','session_comments_given':'sum',\n",
    "                                       'bugs_in_session':'sum','active_duration':'sum'}).reset_index(drop=True)"
   ]
  },
  {
   "cell_type": "code",
   "execution_count": 35,
   "metadata": {},
   "outputs": [],
   "source": [
    "# feature scaling\n",
    "lists=['projects_added', 'likes_given', 'comment_given', 'inactive_status',\n",
    "       'bug_occured', 'session_projects_added', 'session_likes_given',\n",
    "       'session_comments_given', 'bugs_in_session']\n",
    "rs_scale = preprocessing.MinMaxScaler().fit(df_model[lists])\n",
    "df_model[lists] = rs_scale.transform(df_model[lists])"
   ]
  },
  {
   "cell_type": "code",
   "execution_count": 36,
   "metadata": {},
   "outputs": [],
   "source": [
    "x_train=df_model.drop(['active_duration'], axis = 1)\n",
    "y_train=df_model['active_duration']"
   ]
  },
  {
   "cell_type": "markdown",
   "metadata": {},
   "source": [
    "Due to the very small dataset, we do not split the dataset into training and testing data. "
   ]
  },
  {
   "cell_type": "code",
   "execution_count": 37,
   "metadata": {},
   "outputs": [],
   "source": [
    "# from sklearn.model_selection import train_test_split\n",
    "# model_train, model_test = train_test_split(df_model, test_size=0.1, random_state = 123)\n",
    "# x_train = model_train.drop(['active_duration'], axis = 1)\n",
    "# x_test = model_test.drop(['active_duration'], axis = 1)\n",
    "# y_train = model_train['active_duration']\n",
    "# y_test = model_test['active_duration']"
   ]
  },
  {
   "cell_type": "code",
   "execution_count": 38,
   "metadata": {},
   "outputs": [
    {
     "data": {
      "text/plain": [
       "RandomForestRegressor(bootstrap=True, ccp_alpha=0.0, criterion='mse',\n",
       "                      max_depth=None, max_features='auto', max_leaf_nodes=None,\n",
       "                      max_samples=None, min_impurity_decrease=0.0,\n",
       "                      min_impurity_split=None, min_samples_leaf=1,\n",
       "                      min_samples_split=2, min_weight_fraction_leaf=0.0,\n",
       "                      n_estimators=100, n_jobs=None, oob_score=False,\n",
       "                      random_state=3, verbose=0, warm_start=False)"
      ]
     },
     "execution_count": 38,
     "metadata": {},
     "output_type": "execute_result"
    }
   ],
   "source": [
    "rf_model = RandomForestRegressor(random_state=3)\n",
    "rf_model.fit(x_train, y_train)"
   ]
  },
  {
   "cell_type": "code",
   "execution_count": 39,
   "metadata": {},
   "outputs": [],
   "source": [
    "# random forest score\n",
    "# from sklearn.metrics import mean_squared_error, r2_score\n",
    "# from math import sqrt\n",
    "# rf_score = rf_model.score(x_test, y_test)\n",
    "\n",
    "# pred_y = rf_model.predict(x_test)\n",
    "# MSE_rf = mean_squared_error(y_test, pred_y)\n",
    "# RMSE_rf = sqrt(mean_squared_error(y_test, pred_y))\n",
    "\n",
    "# # the mean squared error and root mean square error\n",
    "# print('rf score: ', rf_score)\n",
    "# print('Mean square error of rf: ', MSE_rf)\n",
    "# print('Root mean squared error of rf:', RMSE_rf)"
   ]
  },
  {
   "cell_type": "code",
   "execution_count": 40,
   "metadata": {},
   "outputs": [
    {
     "name": "stdout",
     "output_type": "stream",
     "text": [
      "1. session_projects_added (0.285427)\n",
      "2. comment_given (0.224938)\n",
      "3. session_comments_given (0.128259)\n",
      "4. projects_added (0.108360)\n",
      "5. bugs_in_session (0.086593)\n",
      "6. session_likes_given (0.075445)\n",
      "7. likes_given (0.057455)\n",
      "8. bug_occured (0.023318)\n",
      "9. inactive_status (0.010205)\n"
     ]
    }
   ],
   "source": [
    "importances = rf_model.feature_importances_ \n",
    "indices = np.argsort(importances)[::-1] \n",
    "for f in range(9): \n",
    "    print(\"%d. %s (%f)\" % (f + 1, x_train.columns[indices[f]], importances[indices[f]])) "
   ]
  },
  {
   "cell_type": "code",
   "execution_count": 41,
   "metadata": {},
   "outputs": [
    {
     "data": {
      "image/png": "[encoded data removed]",
      "text/plain": [
       "<Figure size 432x288 with 1 Axes>"
      ]
     },
     "metadata": {
      "needs_background": "light"
     },
     "output_type": "display_data"
    }
   ],
   "source": [
    "indices=indices[:9]\n",
    "plt.figure() \n",
    "plt.title(\"Feature Importances\") \n",
    "plt.barh(range(9),importances[indices],color=\"g\", align=\"center\") \n",
    "plt.yticks(range(9),df_model.columns[indices],fontsize=10) \n",
    "plt.ylim([-1, 9]) \n",
    "plt.show()"
   ]
  },
  {
   "cell_type": "markdown",
   "metadata": {},
   "source": [
    "After training the random forest model, the feature importances scores are obtained for all features, as shown above. We can see that the order of the importance of the three active events that affect users' active duration is: adding projects > giving comments > giving likes. This observation is convincing because adding projects usually takes users much more time than giving comments or likes, which requires more engagement from users. "
   ]
  },
  {
   "cell_type": "markdown",
   "metadata": {},
   "source": [
    "Now, we can utilize the feature importance scores of those three active events as our weighting parameters to build our representative '__active_score__' feature, as shown below.  "
   ]
  },
  {
   "cell_type": "markdown",
   "metadata": {},
   "source": [
    "### Part 3.2 User-based Analysis of Active Score"
   ]
  },
  {
   "cell_type": "code",
   "execution_count": 42,
   "metadata": {},
   "outputs": [],
   "source": [
    "# using all data to calculate active score\n",
    "df_user=df.drop(['session_id'],axis=1)"
   ]
  },
  {
   "cell_type": "code",
   "execution_count": 43,
   "metadata": {},
   "outputs": [],
   "source": [
    "df_user=df_user.groupby(['customer_id']).agg({'session_projects_added':'sum',\n",
    "                                        'session_likes_given':'sum','session_comments_given':'sum'}).reset_index()"
   ]
  },
  {
   "cell_type": "code",
   "execution_count": 44,
   "metadata": {},
   "outputs": [],
   "source": [
    "df_user['active_score']=df_user['session_projects_added']*0.285427+df_user['session_comments_given']*0.128259+df_user['session_likes_given']*0.075445"
   ]
  },
  {
   "cell_type": "code",
   "execution_count": 45,
   "metadata": {},
   "outputs": [
    {
     "data": {
      "text/plain": [
       "<matplotlib.axes._subplots.AxesSubplot at 0x1a1ecddb50>"
      ]
     },
     "execution_count": 45,
     "metadata": {},
     "output_type": "execute_result"
    },
    {
     "data": {
      "image/png": "[encoded data removed]",
      "text/plain": [
       "<Figure size 432x288 with 1 Axes>"
      ]
     },
     "metadata": {
      "needs_background": "light"
     },
     "output_type": "display_data"
    }
   ],
   "source": [
    "sns.distplot(df_user['active_score'])"
   ]
  },
  {
   "cell_type": "code",
   "execution_count": 46,
   "metadata": {},
   "outputs": [
    {
     "data": {
      "text/plain": [
       "<matplotlib.axes._subplots.AxesSubplot at 0x1a1eeab110>"
      ]
     },
     "execution_count": 46,
     "metadata": {},
     "output_type": "execute_result"
    },
    {
     "data": {
      "image/png": "[encoded data removed]",
      "text/plain": [
       "<Figure size 432x288 with 1 Axes>"
      ]
     },
     "metadata": {
      "needs_background": "light"
     },
     "output_type": "display_data"
    }
   ],
   "source": [
    "sns.boxplot(df_user['active_score'])"
   ]
  },
  {
   "cell_type": "code",
   "execution_count": 47,
   "metadata": {},
   "outputs": [
    {
     "data": {
      "text/plain": [
       "count    48.000000\n",
       "mean      9.734105\n",
       "std       9.426128\n",
       "min       0.285427\n",
       "25%       1.707881\n",
       "50%       6.903804\n",
       "75%      13.433883\n",
       "max      33.457195\n",
       "Name: active_score, dtype: float64"
      ]
     },
     "execution_count": 47,
     "metadata": {},
     "output_type": "execute_result"
    }
   ],
   "source": [
    "df_user['active_score'].describe()"
   ]
  },
  {
   "cell_type": "markdown",
   "metadata": {},
   "source": [
    "From the above distplot, we can see that the distribution of '__active_score__' can be roughly considered as skewed Gaussian curve centering at around 7 with long right tail. From the above boxplot, we can see that the interquartile range of '__active_score__' is [1.707, 13.433]. If we take 25% quartile as the criteria, the '__active_score__' can be categorized into 4 engagement levels: \n",
    "\n",
    "Engagement Level 1 (Highly inactive):      0 <= User's '__active_score__' < 1.708\n",
    "\n",
    "Engagement Level 2 (Relatively inactive):   1.708 <= User's '__active_score__' < 6.904\n",
    "\n",
    "Engagement Level 3 (Relatively active):    6.904 <= User's '__active_score__' < 13.434\n",
    "\n",
    "Engagement Level 4 (Highly active):      13.434 <= User's '__active_score__'"
   ]
  },
  {
   "cell_type": "markdown",
   "metadata": {},
   "source": [
    "### Part 3.3 Weekday-based Analysis of Cumulative Active Score "
   ]
  },
  {
   "cell_type": "code",
   "execution_count": 48,
   "metadata": {},
   "outputs": [],
   "source": [
    "week_day['active_score']=week_day['number_of_projects_added']*0.285427+week_day['number_of_comments_added']*0.128259+week_day['number_of_likes_added']*0.075445"
   ]
  },
  {
   "cell_type": "code",
   "execution_count": 49,
   "metadata": {},
   "outputs": [
    {
     "data": {
      "text/plain": [
       "Text(0, 0.5, 'active_score')"
      ]
     },
     "execution_count": 49,
     "metadata": {},
     "output_type": "execute_result"
    },
    {
     "data": {
      "image/png": "[encoded data removed]",
      "text/plain": [
       "<Figure size 576x432 with 1 Axes>"
      ]
     },
     "metadata": {
      "needs_background": "light"
     },
     "output_type": "display_data"
    }
   ],
   "source": [
    "fig,ax=plt.subplots(figsize=(8,6))\n",
    "plt.plot(week_day['day_name'],week_day['active_score'])\n",
    "ax.set_xlabel('day_name')\n",
    "ax.set_ylabel('active_score')"
   ]
  },
  {
   "cell_type": "markdown",
   "metadata": {},
   "source": [
    "Second, we analyze trend of all logined users' cumulative '__active_score__' across weekdays. From above trend figure, we can see that within one week, the logined users' cumulative '__active_score__' remains relatively stable from Sunday to Tuesday, it then drops to the lowest point on Wednesday and bounces back significantly till Saturday. The overall trend of this cumulative '__active_score__' across weekdays is similar to the number of unique users logined across weekday, which indicates that most users' engagement level degrades when reaching the mid of the week and bounces back when approching the weekend. "
   ]
  },
  {
   "cell_type": "markdown",
   "metadata": {},
   "source": [
    "### Part 3.4 Weekday-based Analysis of Cumulative Active Score Per User"
   ]
  },
  {
   "cell_type": "markdown",
   "metadata": {},
   "source": [
    "After analyzing the trends of cumulative active score across weekdays, now we zoom in to analyze trend of '__active_score__' per User. To makes our analysis more representative, we will select users with top-2 highest active scores and top-2 lowst scores, respectively."
   ]
  },
  {
   "cell_type": "code",
   "execution_count": 50,
   "metadata": {},
   "outputs": [],
   "source": [
    "df_dayname_user=df.groupby(['day_name','customer_id']).agg({'session_projects_added':'sum','session_likes_given':'sum',\n",
    "                              'session_comments_given':'sum'}).reset_index()"
   ]
  },
  {
   "cell_type": "code",
   "execution_count": 51,
   "metadata": {},
   "outputs": [],
   "source": [
    "df_dayname_user['active_score']=df_dayname_user['session_projects_added']*0.285427+df_dayname_user['session_comments_given']*0.128259+df_dayname_user['session_likes_given']*0.075445"
   ]
  },
  {
   "cell_type": "code",
   "execution_count": 52,
   "metadata": {},
   "outputs": [],
   "source": [
    "df_user_sort=df_user.sort_values(by=['active_score'],ascending=False)"
   ]
  },
  {
   "cell_type": "code",
   "execution_count": 53,
   "metadata": {},
   "outputs": [
    {
     "data": {
      "text/html": [
       "<div>\n",
       "<style scoped>\n",
       "    .dataframe tbody tr th:only-of-type {\n",
       "        vertical-align: middle;\n",
       "    }\n",
       "\n",
       "    .dataframe tbody tr th {\n",
       "        vertical-align: top;\n",
       "    }\n",
       "\n",
       "    .dataframe thead th {\n",
       "        text-align: right;\n",
       "    }\n",
       "</style>\n",
       "<table border=\"1\" class=\"dataframe\">\n",
       "  <thead>\n",
       "    <tr style=\"text-align: right;\">\n",
       "      <th></th>\n",
       "      <th>customer_id</th>\n",
       "      <th>session_projects_added</th>\n",
       "      <th>session_likes_given</th>\n",
       "      <th>session_comments_given</th>\n",
       "      <th>active_score</th>\n",
       "    </tr>\n",
       "  </thead>\n",
       "  <tbody>\n",
       "    <tr>\n",
       "      <th>40</th>\n",
       "      <td>87323.0</td>\n",
       "      <td>38.0</td>\n",
       "      <td>230.0</td>\n",
       "      <td>41.0</td>\n",
       "      <td>33.457195</td>\n",
       "    </tr>\n",
       "    <tr>\n",
       "      <th>9</th>\n",
       "      <td>23404.0</td>\n",
       "      <td>25.0</td>\n",
       "      <td>207.0</td>\n",
       "      <td>64.0</td>\n",
       "      <td>30.961366</td>\n",
       "    </tr>\n",
       "  </tbody>\n",
       "</table>\n",
       "</div>"
      ],
      "text/plain": [
       "    customer_id  session_projects_added  session_likes_given  \\\n",
       "40      87323.0                    38.0                230.0   \n",
       "9       23404.0                    25.0                207.0   \n",
       "\n",
       "    session_comments_given  active_score  \n",
       "40                    41.0     33.457195  \n",
       "9                     64.0     30.961366  "
      ]
     },
     "execution_count": 53,
     "metadata": {},
     "output_type": "execute_result"
    }
   ],
   "source": [
    "df_user_sort.head(2)"
   ]
  },
  {
   "cell_type": "code",
   "execution_count": 54,
   "metadata": {},
   "outputs": [
    {
     "data": {
      "text/html": [
       "<div>\n",
       "<style scoped>\n",
       "    .dataframe tbody tr th:only-of-type {\n",
       "        vertical-align: middle;\n",
       "    }\n",
       "\n",
       "    .dataframe tbody tr th {\n",
       "        vertical-align: top;\n",
       "    }\n",
       "\n",
       "    .dataframe thead th {\n",
       "        text-align: right;\n",
       "    }\n",
       "</style>\n",
       "<table border=\"1\" class=\"dataframe\">\n",
       "  <thead>\n",
       "    <tr style=\"text-align: right;\">\n",
       "      <th></th>\n",
       "      <th>customer_id</th>\n",
       "      <th>session_projects_added</th>\n",
       "      <th>session_likes_given</th>\n",
       "      <th>session_comments_given</th>\n",
       "      <th>active_score</th>\n",
       "    </tr>\n",
       "  </thead>\n",
       "  <tbody>\n",
       "    <tr>\n",
       "      <th>20</th>\n",
       "      <td>33496.0</td>\n",
       "      <td>2.0</td>\n",
       "      <td>0.0</td>\n",
       "      <td>0.0</td>\n",
       "      <td>0.570854</td>\n",
       "    </tr>\n",
       "    <tr>\n",
       "      <th>28</th>\n",
       "      <td>43096.0</td>\n",
       "      <td>1.0</td>\n",
       "      <td>0.0</td>\n",
       "      <td>0.0</td>\n",
       "      <td>0.285427</td>\n",
       "    </tr>\n",
       "  </tbody>\n",
       "</table>\n",
       "</div>"
      ],
      "text/plain": [
       "    customer_id  session_projects_added  session_likes_given  \\\n",
       "20      33496.0                     2.0                  0.0   \n",
       "28      43096.0                     1.0                  0.0   \n",
       "\n",
       "    session_comments_given  active_score  \n",
       "20                     0.0      0.570854  \n",
       "28                     0.0      0.285427  "
      ]
     },
     "execution_count": 54,
     "metadata": {},
     "output_type": "execute_result"
    }
   ],
   "source": [
    "df_user_sort.tail(2)"
   ]
  },
  {
   "cell_type": "code",
   "execution_count": 55,
   "metadata": {},
   "outputs": [],
   "source": [
    "df_dayname_user_eg=df_dayname_user[df_dayname_user['customer_id'].isin([87323.0, 23404.0, 33496.0, 43096.0])]"
   ]
  },
  {
   "cell_type": "code",
   "execution_count": 56,
   "metadata": {},
   "outputs": [
    {
     "data": {
      "image/png": "[encoded data removed]",
      "text/plain": [
       "<Figure size 1584x864 with 4 Axes>"
      ]
     },
     "metadata": {
      "needs_background": "light"
     },
     "output_type": "display_data"
    }
   ],
   "source": [
    "# visualize distribution of active_score by week day for top 2 and last 2 users respectively\n",
    "fig=plt.figure(figsize=(22,12))\n",
    "\n",
    "plt.subplot(2,2,1)\n",
    "plt.title(\"customer_id=87323.0\")\n",
    "sns.barplot(x='day_name',y='active_score',color=\"green\",data=df_dayname_user_eg[df_dayname_user_eg['customer_id']==87323.0].groupby(['day_name']).sum().reindex(cats).reset_index())\n",
    "\n",
    "plt.subplot(2,2,2)\n",
    "plt.title(\"customer_id=23404.0\")\n",
    "sns.barplot(x='day_name',y='active_score',color='cadetblue',data=df_dayname_user_eg[df_dayname_user_eg['customer_id']==23404.0].groupby(['day_name']).sum().reindex(cats).reset_index())\n",
    "\n",
    "plt.subplot(2,2,3)\n",
    "plt.title(\"customer_id=33496.0\")\n",
    "sns.barplot(x='day_name',y='active_score',color='bisque',data=df_dayname_user_eg[df_dayname_user_eg['customer_id']==33496.0].groupby(['day_name']).sum().reindex(cats).reset_index())\n",
    "\n",
    "plt.subplot(2,2,4)\n",
    "plt.title(\"customer_id=43096.0\")\n",
    "sns.barplot(x='day_name',y='active_score',color='burlywood',data=df_dayname_user_eg[df_dayname_user_eg['customer_id']==43096.0].groupby(['day_name']).sum().reindex(cats).reset_index())\n",
    "\n",
    "plt.show()"
   ]
  },
  {
   "cell_type": "markdown",
   "metadata": {},
   "source": [
    "For the top-2 active users, we can see that they have active scores larger than 2 for almost all weekdays and they usually have higher active scores during the weekend. In contrast, for the top-2 inactive users, they have active scores equal to zero for most weekdays and even their highest active score are less than 1. "
   ]
  },
  {
   "cell_type": "markdown",
   "metadata": {},
   "source": [
    "## Part 4 Conclusion and Suggestion and Future Work"
   ]
  },
  {
   "cell_type": "markdown",
   "metadata": {},
   "source": [
    "### Part 4.1 Conclusion and Suggestion "
   ]
  },
  {
   "cell_type": "markdown",
   "metadata": {},
   "source": [
    "In this project, we have analyzed users'engagement status in the website platform. After cleaning raw dataset, we have conducted both trend-based analysis and user-based analysis. In trend-based analysis, we analyze both daily-based trend and weekday-based trend of users' activities. In user-based analysis, we first build representative features '__active_duration__' and '__active_score__' via feature engineering and modeling (Random Forest Model). Then we analyze both user-based '__active_score__'and its trend across weekdays. \n",
    "\n",
    "Conclusion:\n",
    "1. More users tend to login the website during the beginning of each week.\n",
    "2. The number of different actions conducted per weekday, such as adding projects, giving comments and giving likes, are correlated with each other. For example, when the number of projects added increases on Saturday, it is highly likely that the number of comments added also increases on Saturday. \n",
    "3. The number of bugs occurred per weekday is also correlated with the number of different actions conducted. This means the more projects added/comments are given, the more bugs will be discovered.\n",
    "4. Within one week, the logined users' cumulative '__active_score__' remains relatively stable from Sunday to Tuesday, it then drops to the lowest point on Wednesday and bounces back significantly till Saturday. Therefore, most users' engagement level degrades when reaching the mid of the week and bounces back when approching the weekend. \n",
    "\n",
    "Suggestion:\n",
    "1. The platform can recommend different contents to users based on their active scores per weekday. For example, during the mid of the week when most users have low active scores due to being busy with other job tasks. The platform can recommend lightweight contents/articles/projects to users so that they can both engage and relax.\n",
    "2. The platform can design and send surveys to users to collect their feedbacks on potential improvement.\n",
    "3. The platform needs to fix internal bugs in its backend system to improve the user experience.\n",
    "4. The platform can improve the data collection components to collect more user-based data."
   ]
  },
  {
   "cell_type": "markdown",
   "metadata": {},
   "source": [
    "### Part 4.2 Future Work"
   ]
  },
  {
   "cell_type": "markdown",
   "metadata": {},
   "source": [
    "Current dataset is still relatively small, which makes many analysis infeasible. When more data are available, following analysis can be done:\n",
    "1. Unsupervised clustering of various activities to identify groups that affect engagement level most.\n",
    "2. Supervised learning of various features to predict engagement level in a more accurate way."
   ]
  }
 ],
 "metadata": {
  "kernelspec": {
   "display_name": "Python 3",
   "language": "python",
   "name": "python3"
  },
  "language_info": {
   "codemirror_mode": {
    "name": "ipython",
    "version": 3
   },
   "file_extension": ".py",
   "mimetype": "text/x-python",
   "name": "python",
   "nbconvert_exporter": "python",
   "pygments_lexer": "ipython3",
   "version": "3.7.4"
  }
 },
 "nbformat": 4,
 "nbformat_minor": 4
}
